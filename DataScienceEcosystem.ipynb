{
 "cells": [
  {
   "cell_type": "markdown",
   "id": "93a5f8a3",
   "metadata": {},
   "source": [
    "# Data Science Tools and Ecosystem #"
   ]
  },
  {
   "cell_type": "markdown",
   "id": "08e167a5",
   "metadata": {},
   "source": [
    "## In this notebook, Data Science Tools and Ecosystem are summarized. ##"
   ]
  },
  {
   "cell_type": "markdown",
   "id": "92f7e53a",
   "metadata": {},
   "source": [
    "### Some of the popular languages that Data Scientists use are: ###\n",
    "          1- Python\n",
    "          2- R\n",
    "          3- SQL\n",
    "          4- SAS\n",
    "          5- Java Script\n",
    "          6- C/C++\n",
    "          7- Java\n",
    "          8- Go\n",
    "          9- Scala\n",
    "          10- Julia\n",
    "          11- Swift\n",
    "          12- MATLAB"
   ]
  },
  {
   "cell_type": "markdown",
   "id": "aebdcba4",
   "metadata": {},
   "source": [
    "### Some of the commonly used libraries used by Data Scientists include: ###\n",
    "              1- NumPy\n",
    "              2- Pandas\n",
    "              3- Matplotlib\n",
    "              4- Seaborn\n",
    "              5- Plotly\n",
    "              6- Scikit-Learn\n",
    "              "
   ]
  },
  {
   "cell_type": "markdown",
   "id": "101e18db",
   "metadata": {},
   "source": [
    "| Data Science Tools |\n",
    "|-------------------|\n",
    "| Jupyter Notebook  |\n",
    "| RStudio           |\n",
    "| Visual Studio Code|"
   ]
  },
  {
   "cell_type": "markdown",
   "id": "5155eda0",
   "metadata": {},
   "source": [
    "### Below are a few examples of evaluating arithmetic expressions in Python\n",
    "\n",
    "Arithmetic expressions are commonly used in programming to perform mathematical calculations. Here are some examples of evaluating arithmetic expressions in Python:\n",
    "\n",
    "1. Addition: \n",
    "   ```python\n",
    "   result = 2 + 3\n",
    "   print(result)  # Output: 5\n",
    "\n",
    "2. Subtraction:\n",
    "   ```python\n",
    "   result = 10 - 5\n",
    "   print(result)  # Output: 5\n",
    "\n",
    "3. Multiplication:\n",
    "   ```python\n",
    "   result = 4 * 5\n",
    "   print(result)  # Output: 20 \n",
    "\n",
    " 4. Division:\n",
    "   ```python\n",
    "   result = 10 / 2\n",
    "   print(result)  # Output: 5.0\n",
    "\n",
    "\n",
    "    \n",
    "\n"
   ]
  },
  {
   "cell_type": "code",
   "execution_count": 1,
   "id": "dd05e36b",
   "metadata": {},
   "outputs": [
    {
     "name": "stdout",
     "output_type": "stream",
     "text": [
      "17\n"
     ]
    }
   ],
   "source": [
    "# This is a simple arithmetic expression to multiply then add integers.\n",
    "result = (3 * 4) + 5\n",
    "print(result)  # Output: 17"
   ]
  },
  {
   "cell_type": "code",
   "execution_count": 2,
   "id": "8f75953d",
   "metadata": {},
   "outputs": [
    {
     "name": "stdout",
     "output_type": "stream",
     "text": [
      "3.3333333333333335\n"
     ]
    }
   ],
   "source": [
    "# This will convert 200 minutes to hours by dividing by 60.\n",
    "minutes = 200\n",
    "hours = minutes / 60\n",
    "print(hours)  # Output: 3.3333333333333335"
   ]
  },
  {
   "cell_type": "markdown",
   "id": "58abfad9",
   "metadata": {},
   "source": [
    "**Objectives:**\n",
    "\n",
    "- List popular languages for Data Science.\n",
    "- Introduce JupyterLab and its features.\n",
    "- Explain how to execute code cells in Jupyter Notebook.\n",
    "- Demonstrate how to switch kernels in Jupyter Notebook.\n",
    "- Discuss working with Jupyter Notebook in different environments.\n",
    "- Explore converting Jupyter Notebook to other formats.\n",
    "- Highlight features of JupyterLite and Google Colab.\n",
    "- Introduce the concept of repositories and version control with GitHub.\n",
    "- Explain the use of organizations in GitHub.\n",
    "- Discuss the different tabs and functions in a GitHub repository.\n",
    "- Explain the process of saving and committing changes in a repository.\n",
    "- Describe how to add files to a GitHub repository from a local machine.\n",
    "- Introduce arithmetic expressions and their evaluation in Python.\n",
    "- Demonstrate the conversion of minutes to hours using Python."
   ]
  },
  {
   "cell_type": "markdown",
   "id": "98e9814b",
   "metadata": {},
   "source": [
    "## Author\n",
    "Israa Fikry Ibraheem Guda"
   ]
  },
  {
   "cell_type": "code",
   "execution_count": null,
   "id": "346250e3",
   "metadata": {},
   "outputs": [],
   "source": []
  }
 ],
 "metadata": {
  "kernelspec": {
   "display_name": "Python 3 (ipykernel)",
   "language": "python",
   "name": "python3"
  },
  "language_info": {
   "codemirror_mode": {
    "name": "ipython",
    "version": 3
   },
   "file_extension": ".py",
   "mimetype": "text/x-python",
   "name": "python",
   "nbconvert_exporter": "python",
   "pygments_lexer": "ipython3",
   "version": "3.10.9"
  }
 },
 "nbformat": 4,
 "nbformat_minor": 5
}
